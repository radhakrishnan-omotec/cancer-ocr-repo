{
  "nbformat": 4,
  "nbformat_minor": 0,
  "metadata": {
    "colab": {
      "provenance": [],
      "include_colab_link": true
    },
    "kernelspec": {
      "name": "python3",
      "display_name": "Python 3"
    },
    "language_info": {
      "name": "python"
    }
  },
  "cells": [
    {
      "cell_type": "markdown",
      "metadata": {
        "id": "view-in-github",
        "colab_type": "text"
      },
      "source": [
        "<a href=\"https://colab.research.google.com/github/radhakrishnan-omotec/cancer-ocr-repo/blob/main/Rakshit_Kapoor_Project_F_OCR.ipynb\" target=\"_parent\"><img src=\"https://colab.research.google.com/assets/colab-badge.svg\" alt=\"Open In Colab\"/></a>"
      ]
    },
    {
      "cell_type": "markdown",
      "source": [
        "# Analysis of Cancer-Causing Ingredients in Food Products Through Barcode Scanning\n",
        "\n",
        "### Author: Rakshit Kapoor"
      ],
      "metadata": {
        "id": "GS2FptOR76uB"
      }
    },
    {
      "cell_type": "markdown",
      "source": [
        "# Project Setup"
      ],
      "metadata": {
        "id": "0WuI4PyF7_Xs"
      }
    },
    {
      "cell_type": "markdown",
      "source": [
        "This notebook analyzes cancer-causing ingredients in food products using OCR, barcode scanning USING USB , and machine learning. It integrates Raspberry Pi for portable scanning, connects to local and external databases, and employs advanced NLP for preprocessing. Designed for Google Colab, it includes robust error handling and visualization."
      ],
      "metadata": {
        "id": "jw9Uo7Mt8Dww"
      }
    },
    {
      "cell_type": "markdown",
      "source": [
        "This FINAL notebook is ready for Colab execution, offering a robust, portable, and scalable solution for analyzing cancer-causing ingredients in food products."
      ],
      "metadata": {
        "id": "lVjUYF8n9Azc"
      }
    },
    {
      "cell_type": "markdown",
      "source": [
        "---"
      ],
      "metadata": {
        "id": "TL9oyH809DTW"
      }
    },
    {
      "cell_type": "code",
      "execution_count": null,
      "metadata": {
        "id": "ArETnRx47bzn"
      },
      "outputs": [],
      "source": []
    }
  ]
}