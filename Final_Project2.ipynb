{
 "cells": [
  {
   "cell_type": "markdown",
   "id": "49a592b6",
   "metadata": {},
   "source": [
    "# Cancer-Causing Ingredient Detection in Food Products - OCR & Barcode Scanning\n",
    "This notebook implements a full pipeline for detecting harmful food ingredients using OCR, barcode scanning, and machine learning."
   ]
  },
  {
   "cell_type": "markdown",
   "id": "04aa3d43",
   "metadata": {},
   "source": [
    "### Execution Instructions for Final_Project2.ipynb 🚀"
   ]
  },
  {
   "cell_type": "code",
   "execution_count": null,
   "id": "bea4b7ea",
   "metadata": {},
   "outputs": [],
   "source": [
    "!pip install pytesseract opencv-python openpyxl pyzbar scikit-learn matplotlib seaborn requests nltk picamera2\n",
    "!sudo apt-get install zbar-tools"
   ]
  },
  {
   "cell_type": "code",
   "execution_count": null,
   "id": "900a0637",
   "metadata": {},
   "outputs": [],
   "source": [
    "import cv2\n",
    "import pytesseract\n",
    "import numpy as np\n",
    "import pandas as pd\n",
    "import openpyxl\n",
    "from pyzbar.pyzbar import decode\n",
    "from sklearn.ensemble import RandomForestClassifier\n",
    "from sklearn.model_selection import train_test_split\n",
    "from sklearn.metrics import accuracy_score\n",
    "import matplotlib.pyplot as plt\n",
    "import seaborn as sns\n",
    "import requests\n",
    "import json\n",
    "import nltk\n",
    "from nltk.tokenize import word_tokenize\n",
    "from picamera2 import Picamera2\n",
    "import time\n",
    "nltk.download('punkt')"
   ]
  },
  {
   "cell_type": "code",
   "execution_count": null,
   "id": "b8ddc51e",
   "metadata": {},
   "outputs": [],
   "source": [
    "pytesseract.pytesseract.tesseract_cmd = '/usr/bin/tesseract'"
   ]
  },
  {
   "cell_type": "code",
   "execution_count": null,
   "id": "b62dc274",
   "metadata": {},
   "outputs": [],
   "source": [
    "harmful_ingredients = {\n",
    "    'Red 40': 'High Cancer Risk',\n",
    "    'Yellow 5': 'Moderate Cancer Risk',\n",
    "    'Aspartame': 'High Neurological Risk',\n",
    "    'BHA': 'High Cancer Risk',\n",
    "    'Sodium Nitrite': 'High Cancer Risk',\n",
    "    'Trans Fats': 'Cardiovascular Risk',\n",
    "    'BPA': 'Endocrine Disruptor',\n",
    "    'MSG': 'Neurological Disruptor'\n",
    "}\n",
    "\n",
    "def load_database():\n",
    "    return harmful_ingredients"
   ]
  },
  {
   "cell_type": "code",
   "execution_count": null,
   "id": "36725200",
   "metadata": {},
   "outputs": [],
   "source": [
    "def extract_label_text(image_path):\n",
    "    image = cv2.imread(image_path)\n",
    "    gray = cv2.cvtColor(image, cv2.COLOR_BGR2GRAY)\n",
    "    _, thresh = cv2.threshold(gray, 150, 255, cv2.THRESH_BINARY)\n",
    "    text = pytesseract.image_to_string(thresh)\n",
    "    return text"
   ]
  },
  {
   "cell_type": "code",
   "execution_count": null,
   "id": "78d6a2c0",
   "metadata": {},
   "outputs": [],
   "source": [
    "def scan_barcode(image_path):\n",
    "    image = cv2.imread(image_path)\n",
    "    barcodes = decode(image)\n",
    "    for barcode in barcodes:\n",
    "        barcode_data = barcode.data.decode('utf-8')\n",
    "        return barcode_data\n",
    "    return None"
   ]
  },
  {
   "cell_type": "code",
   "execution_count": null,
   "id": "e972809f",
   "metadata": {},
   "outputs": [],
   "source": [
    "def preprocess_text(text):\n",
    "    words = word_tokenize(text.lower())\n",
    "    words = [word.strip() for word in words if word.isalpha()]\n",
    "    return words"
   ]
  },
  {
   "cell_type": "code",
   "execution_count": null,
   "id": "39752b9b",
   "metadata": {},
   "outputs": [],
   "source": [
    "def match_ingredients(ingredients):\n",
    "    database = load_database()\n",
    "    flagged_ingredients = {i: database[i] for i in ingredients if i in database}\n",
    "    return flagged_ingredients"
   ]
  },
  {
   "cell_type": "code",
   "execution_count": null,
   "id": "b3ce6e9e",
   "metadata": {},
   "outputs": [],
   "source": [
    "def train_ml_model():\n",
    "    data = pd.DataFrame({\n",
    "        'Ingredient': list(harmful_ingredients.keys()),\n",
    "        'Risk Level': [2, 1, 2, 2, 2, 2, 3, 3]\n",
    "    })\n",
    "    X = pd.get_dummies(data['Ingredient'], drop_first=True)\n",
    "    y = data['Risk Level']\n",
    "    X_train, X_test, y_train, y_test = train_test_split(X, y, test_size=0.2, random_state=42)\n",
    "    model = RandomForestClassifier()\n",
    "    model.fit(X_train, y_train)\n",
    "    y_pred = model.predict(X_test)\n",
    "    print('Accuracy:', accuracy_score(y_test, y_pred))\n",
    "    return model"
   ]
  },
  {
   "cell_type": "code",
   "execution_count": null,
   "id": "98a7a947",
   "metadata": {},
   "outputs": [],
   "source": [
    "def main_pipeline(image_path):\n",
    "    print('Extracting label text...')\n",
    "    label_text = extract_label_text(image_path)\n",
    "    print('Extracted Text:', label_text)\n",
    "    barcode = scan_barcode(image_path)\n",
    "    print('Barcode Data:', barcode)\n",
    "    if barcode:\n",
    "        upc_data = fetch_upc_info(barcode)\n",
    "        print('UPC Data:', upc_data)\n",
    "    ingredients = preprocess_text(label_text)\n",
    "    flagged = match_ingredients(ingredients)\n",
    "    for ingredient, risk in flagged.items():\n",
    "        print(f'⚠ ALERT: {ingredient} - {risk}')\n",
    "    train_ml_model()\n",
    "\n",
    "image_path = 'path/to/your/image.jpg'  # Update with actual image\n",
    "main_pipeline(image_path)"
   ]
  }
 ],
 "metadata": {
  "language_info": {
   "name": "python"
  }
 },
 "nbformat": 4,
 "nbformat_minor": 5
}
