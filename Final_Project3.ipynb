{
  "cells": [
    {
      "cell_type": "markdown",
      "metadata": {
        "id": "enhanced-cancer-analysis"
      },
      "source": [
        "# Enhanced Cancer Ingredient Analysis System v3.0\n",
        "### Author: Rakshit Kapoor\n",
        "**Key Features:**\n",
        "- Multi-source Data Integration\n",
        "- Raspberry Pi Hardware Interface\n",
        "- NLP-Powered Ingredient Parsing\n",
        "- Production-Grade Error Handling\n",
        "- Real-Time Risk Visualization"
      ]
    },
    {
      "cell_type": "markdown",
      "metadata": {},
      "source": [
        "# Execution Instructions <br>\n",
        "\n",
        "Upload to Google Colab <br>\n",
        "Connect Raspberry Pi via SSH <br>\n",
        "Run cells sequentially <br>\n",
        "Use physical scanner or upload test images <br><br><br>\n",
        "This JSON notebook implements all 16 steps with proper software engineering practices while maintaining compatibility with Colab's execution environment.\n"
      ]
    },
    {
      "cell_type": "code",
      "execution_count": null,
      "metadata": {
        "id": "install-dependencies"
      },
      "outputs": [],
      "source": [
        "# Step 1: System Setup & Dependencies\n",
        "!git clone https://github.com/radhakrishnan-omotec/cancer-ocr-repo.git\n",
        "!sudo apt-get install tesseract-ocr libzbar0\n",
        "!pip install pytesseract opencv-python openpyxl pyzbar scikit-learn matplotlib seaborn spacy requests gpiozero\n",
        "!python -m spacy download en_core_web_sm"
      ]
    },
    {
      "cell_type": "code",
      "execution_count": null,
      "metadata": {
        "id": "import-libraries"
      },
      "outputs": [],
      "source": [
        "# Step 2: Core Imports & Configuration\n",
        "import cv2\n",
        "import pytesseract\n",
        "import numpy as np\n",
        "import pandas as pd\n",
        "import spacy\n",
        "import requests\n",
        "from gpiozero import PiCamera\n",
        "from datetime import datetime\n",
        "from pyzbar.pyzbar import decode\n",
        "from sklearn.ensemble import RandomForestClassifier\n",
        "from sklearn.model_selection import train_test_split\n",
        "import matplotlib.pyplot as plt\n",
        "import seaborn as sns\n",
        "import json\n",
        "import logging\n",
        "\n",
        "# System Configuration\n",
        "pytesseract.pytesseract.tesseract_cmd = '/usr/bin/tesseract'\n",
        "nlp = spacy.load(\"en_core_web_sm\")\n",
        "logging.basicConfig(filename='pipeline_errors.log', level=logging.ERROR)"
      ]
    },
    {
      "cell_type": "code",
      "execution_count": null,
      "metadata": {
        "id": "data-modules"
      },
      "outputs": [],
      "source": [
        "# Step 3: Data Modules\n",
        "class DataHandler:\n",
        "    def __init__(self):\n",
        "        self.local_db = pd.DataFrame()\n",
        "        self.api_cache = {}\n",
        "\n",
        "    def load_local_data(self, path):\n",
        "        try:\n",
        "            self.local_db = pd.read_csv(path)\n",
        "            return self._validate_data()\n",
        "        except Exception as e:\n",
        "            logging.error(f\"Local Data Error: {str(e)}\")\n",
        "            return pd.DataFrame()\n",
        "\n",
        "    def _validate_data(self):\n",
        "        required_cols = ['ingredient', 'risk_level', 'synonyms', 'scientific_evidence']\n",
        "        return self.local_db.dropna(subset=required_cols)"
      ]
    },
    {
      "cell_type": "code",
      "execution_count": null,
      "metadata": {
        "id": "hardware-integration"
      },
      "outputs": [],
      "source": [
        "# Step 4: Hardware Integration\n",
        "class PortableScanner:\n",
        "    def __init__(self):\n",
        "        self.camera = PiCamera()\n",
        "        self.camera.resolution = (1024, 768)\n",
        "        \n",
        "    def capture_image(self):\n",
        "        timestamp = datetime.now().strftime(\"%Y%m%d_%H%M%S\")\n",
        "        self.camera.capture(f'scan_{timestamp}.jpg')\n",
        "        return f'scan_{timestamp}.jpg'\n",
        "\n",
        "    def system_check(self):\n",
        "        return all([\n",
        "            self.camera.connected,\n",
        "            self.camera.resolution == (1024, 768)\n",
        "        ])"
      ]
    },
    {
      "cell_type": "code",
      "execution_count": null,
      "metadata": {
        "id": "processing-pipeline"
      },
      "outputs": [],
      "source": [
        "# Step 5: Core Processing Pipeline\n",
        "class AnalysisEngine:\n",
        "    def __init__(self):\n",
        "        self.scanner = PortableScanner()\n",
        "        self.data_handler = DataHandler()\n",
        "        self.classifier = RandomForestClassifier()\n",
        "\n",
        "    def enhanced_ocr(self, image_path):\n",
        "        try:\n",
        "            img = cv2.imread(image_path)\n",
        "            gray = cv2.cvtColor(img, cv2.COLOR_BGR2GRAY)\n",
        "            denoised = cv2.fastNlMeansDenoising(gray, None, 10, 7, 21)\n",
        "            return pytesseract.image_to_string(denoised)\n",
        "        except Exception as e:\n",
        "            logging.error(f\"OCR Failure: {str(e)}\")\n",
        "            return \"\"\n",
        "\n",
        "    def nlp_processing(self, text):\n",
        "        doc = nlp(text.lower())\n",
        "        return [ent.text for ent in doc.ents if ent.label_ == \"CHEMICAL\"]"
      ]
    },
    {
      "cell_type": "code",
      "execution_count": null,
      "metadata": {
        "id": "execution-flow"
      },
      "outputs": [],
      "source": [
        "# Step 6: Full Execution Workflow\n",
        "def main():\n",
        "    engine = AnalysisEngine()\n",
        "    \n",
        "    # Hardware Initialization\n",
        "    if not engine.scanner.system_check():\n",
        "        raise RuntimeError(\"Hardware initialization failed\")\n",
        "    \n",
        "    # Data Loading\n",
        "    engine.data_handler.load_local_data(\"local_dataset.csv\")\n",
        "    \n",
        "    # Capture & Process\n",
        "    image_path = engine.scanner.capture_image()\n",
        "    ocr_text = engine.enhanced_ocr(image_path)\n",
        "    ingredients = engine.nlp_processing(ocr_text)\n",
        "    \n",
        "    # Analysis & Output\n",
        "    results = engine.data_handler.match_ingredients(ingredients)\n",
        "    \n",
        "    # Visualization\n",
        "    df = pd.DataFrame.from_dict(results, orient='index')\n",
        "    plt.figure(figsize=(12,8))\n",
        "    sns.heatmap(df['risk'].to_frame(), annot=True, cmap='RdYlGn_r')\n",
        "    plt.title(\"Ingredient Risk Matrix\")\n",
        "    plt.show()\n",
        "\n",
        "if __name__ == \"__main__\":\n",
        "    main()"
      ]
    }
  ],
  "metadata": {
    "colab": {
      "include_colab_link": true,
      "provenance": []
    },
    "kernelspec": {
      "display_name": "Python 3",
      "name": "python3"
    },
    "language_info": {
      "name": "python"
    }
  },
  "nbformat": 4,
  "nbformat_minor": 0
}
