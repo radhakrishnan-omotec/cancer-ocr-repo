{
  "nbformat": 4,
  "nbformat_minor": 0,
  "metadata": {
    "colab": {
      "provenance": [],
      "authorship_tag": "ABX9TyNQbfVixdGM9o0Q7B4Vzp2X",
      "include_colab_link": true
    },
    "kernelspec": {
      "name": "python3",
      "display_name": "Python 3"
    },
    "language_info": {
      "name": "python"
    }
  },
  "cells": [
    {
      "cell_type": "markdown",
      "metadata": {
        "id": "view-in-github",
        "colab_type": "text"
      },
      "source": [
        "<a href=\"https://colab.research.google.com/github/radhakrishnan-omotec/cancer-ocr-repo/blob/main/Rakshit_Kapoor_Project2_OCR.ipynb\" target=\"_parent\"><img src=\"https://colab.research.google.com/assets/colab-badge.svg\" alt=\"Open In Colab\"/></a>"
      ]
    },
    {
      "cell_type": "markdown",
      "source": [
        "#Analysis of Cancer-Causing Ingredients in Food Products Through Barcode Scanning\n",
        "\n",
        "###Author : Rakshit Kapoor"
      ],
      "metadata": {
        "id": "lAHZAbBBmocG"
      }
    },
    {
      "cell_type": "markdown",
      "source": [
        "# Project Setup"
      ],
      "metadata": {
        "id": "zr6zZf5VoDkS"
      }
    },
    {
      "cell_type": "code",
      "source": [
        "!git clone https://github.com/radhakrishnan-omotec/cancer-ocr-repo.git"
      ],
      "metadata": {
        "id": "MR5tOrLcoF6l"
      },
      "execution_count": null,
      "outputs": []
    },
    {
      "cell_type": "markdown",
      "source": [
        "# Step 1: Install Required Libraries"
      ],
      "metadata": {
        "id": "4NV_mboUnFo5"
      }
    },
    {
      "cell_type": "code",
      "execution_count": null,
      "metadata": {
        "id": "h9ZWaBb8ml_I"
      },
      "outputs": [],
      "source": [
        "# Step 1: Install Required Libraries (Run in Google Colab)\n",
        "!pip install pytesseract opencv-python openpyxl pyzbar scikit-learn matplotlib seaborn\n",
        "\n"
      ]
    },
    {
      "cell_type": "markdown",
      "source": [
        "# Step 2: Import Necessary Libraries\n"
      ],
      "metadata": {
        "id": "P43yLjd0nLii"
      }
    },
    {
      "cell_type": "code",
      "source": [
        "# Step 2: Import Necessary Libraries\n",
        "import cv2\n",
        "import pytesseract\n",
        "import numpy as np\n",
        "import pandas as pd\n",
        "import openpyxl\n",
        "from pyzbar.pyzbar import decode\n",
        "from sklearn.ensemble import RandomForestClassifier\n",
        "from sklearn.model_selection import train_test_split\n",
        "from sklearn.metrics import accuracy_score, classification_report\n",
        "import matplotlib.pyplot as plt\n",
        "import seaborn as sns\n",
        "import json"
      ],
      "metadata": {
        "id": "MEJlQsvxnHUJ"
      },
      "execution_count": null,
      "outputs": []
    },
    {
      "cell_type": "markdown",
      "source": [
        "# Step 3: Configure Pytesseract for OCR"
      ],
      "metadata": {
        "id": "vm0EFz9znPvH"
      }
    },
    {
      "cell_type": "code",
      "source": [
        "# Step 3: Configure Pytesseract for OCR\n",
        "pytesseract.pytesseract.tesseract_cmd = '/usr/bin/tesseract'  # Modify if necessary\n"
      ],
      "metadata": {
        "id": "AylZgkIQnMWp"
      },
      "execution_count": null,
      "outputs": []
    },
    {
      "cell_type": "markdown",
      "source": [
        "# Step 4: Load Carcinogen & Risk Database"
      ],
      "metadata": {
        "id": "KdRG18afnUl8"
      }
    },
    {
      "cell_type": "code",
      "source": [
        "# Step 4: Load Carcinogen & Risk Database (Mock Data for Example)\n",
        "harmful_ingredients = {\n",
        "    \"Red 40\": \"High Cancer Risk\",\n",
        "    \"Yellow 5\": \"Moderate Cancer Risk\",\n",
        "    \"Aspartame\": \"High Neurological Risk\",\n",
        "    \"BHA\": \"High Cancer Risk\"\n",
        "}\n",
        "\n",
        "def load_database():\n",
        "    return harmful_ingredients"
      ],
      "metadata": {
        "id": "KmyjsMzJnRMn"
      },
      "execution_count": null,
      "outputs": []
    },
    {
      "cell_type": "markdown",
      "source": [
        "# Step 5: Label Extraction via OCR\n"
      ],
      "metadata": {
        "id": "F_2H7NUOnZNW"
      }
    },
    {
      "cell_type": "code",
      "source": [
        "# Step 5: Label Extraction via OCR\n",
        "def extract_label_text(image_path):\n",
        "    image = cv2.imread(image_path)\n",
        "    gray = cv2.cvtColor(image, cv2.COLOR_BGR2GRAY)\n",
        "    _, thresh = cv2.threshold(gray, 150, 255, cv2.THRESH_BINARY)\n",
        "    text = pytesseract.image_to_string(thresh)\n",
        "    return text"
      ],
      "metadata": {
        "id": "LXK021p6nW75"
      },
      "execution_count": null,
      "outputs": []
    },
    {
      "cell_type": "markdown",
      "source": [
        "# Step 6: Barcode Scanning\n"
      ],
      "metadata": {
        "id": "q3OIjDcNnf8S"
      }
    },
    {
      "cell_type": "code",
      "source": [
        "# Step 6: Barcode Scanning\n",
        "def scan_barcode(image_path):\n",
        "    image = cv2.imread(image_path)\n",
        "    barcodes = decode(image)\n",
        "    for barcode in barcodes:\n",
        "        barcode_data = barcode.data.decode('utf-8')\n",
        "        return barcode_data\n",
        "    return None"
      ],
      "metadata": {
        "id": "Xoz9UuncniG2"
      },
      "execution_count": null,
      "outputs": []
    },
    {
      "cell_type": "markdown",
      "source": [
        "# Step 7: Ingredient Text Preprocessing"
      ],
      "metadata": {
        "id": "5IKxptCdnkz1"
      }
    },
    {
      "cell_type": "code",
      "source": [
        "# Step 7: Ingredient Text Preprocessing\n",
        "def preprocess_text(text):\n",
        "    words = text.lower().split(\"\\n\")\n",
        "    words = [word.strip() for word in words if word.strip()]\n",
        "    return words"
      ],
      "metadata": {
        "id": "iRczNSmkni2q"
      },
      "execution_count": null,
      "outputs": []
    },
    {
      "cell_type": "markdown",
      "source": [
        "# Step 8: Ingredient Matching\n"
      ],
      "metadata": {
        "id": "_6CxPICynoSB"
      }
    },
    {
      "cell_type": "code",
      "source": [
        "# Step 8: Ingredient Matching\n",
        "def match_ingredients(ingredients):\n",
        "    database = load_database()\n",
        "    flagged_ingredients = {i: database[i] for i in ingredients if i in database}\n",
        "    return flagged_ingredients\n"
      ],
      "metadata": {
        "id": "fWLM9TI9nmd4"
      },
      "execution_count": null,
      "outputs": []
    },
    {
      "cell_type": "markdown",
      "source": [
        "# Step 9: Health Risk Classification Using ML"
      ],
      "metadata": {
        "id": "WUCW6OKEntTR"
      }
    },
    {
      "cell_type": "code",
      "source": [
        "# Step 9: Health Risk Classification Using ML (Mock Model Training)\n",
        "def train_ml_model():\n",
        "    # Mock dataset\n",
        "    data = pd.DataFrame({\n",
        "        \"Ingredient\": [\"Red 40\", \"Yellow 5\", \"Aspartame\", \"BHA\", \"Vitamin C\"],\n",
        "        \"Risk Level\": [2, 1, 2, 2, 0]\n",
        "    })\n",
        "    X = pd.get_dummies(data[\"Ingredient\"], drop_first=True)\n",
        "    y = data[\"Risk Level\"]\n",
        "    X_train, X_test, y_train, y_test = train_test_split(X, y, test_size=0.2, random_state=42)\n",
        "    model = RandomForestClassifier()\n",
        "    model.fit(X_train, y_train)\n",
        "    y_pred = model.predict(X_test)\n",
        "    print(\"Accuracy:\", accuracy_score(y_test, y_pred))\n",
        "    return model"
      ],
      "metadata": {
        "id": "wlvD3wh7np4I"
      },
      "execution_count": null,
      "outputs": []
    },
    {
      "cell_type": "markdown",
      "source": [
        "# Step 10: Real-time Alert Generation"
      ],
      "metadata": {
        "id": "ae_jbiLCnxX2"
      }
    },
    {
      "cell_type": "code",
      "source": [
        "# Step 10: Real-time Alert Generation\n",
        "def generate_alert(flagged):\n",
        "    for ingredient, risk in flagged.items():\n",
        "        print(f\"⚠ ALERT: {ingredient} - {risk}\")"
      ],
      "metadata": {
        "id": "ZGBgURo-nuxx"
      },
      "execution_count": null,
      "outputs": []
    },
    {
      "cell_type": "markdown",
      "source": [
        "# Step 11: Data Visualization\n"
      ],
      "metadata": {
        "id": "HlPrXaryn0F8"
      }
    },
    {
      "cell_type": "code",
      "source": [
        "# Step 11: Data Visualization\n",
        "def visualize_risks(flagged):\n",
        "    df = pd.DataFrame(list(flagged.items()), columns=[\"Ingredient\", \"Risk Level\"])\n",
        "    plt.figure(figsize=(8, 5))\n",
        "    sns.barplot(x=df[\"Ingredient\"], y=df.index, hue=df[\"Risk Level\"], dodge=False)\n",
        "    plt.title(\"Detected Risk Levels\")\n",
        "    plt.show()\n"
      ],
      "metadata": {
        "id": "FTxRTQlZnyHQ"
      },
      "execution_count": null,
      "outputs": []
    },
    {
      "cell_type": "markdown",
      "source": [
        "# Step 12: Full Execution Pipeline"
      ],
      "metadata": {
        "id": "Ch1hiJoin68O"
      }
    },
    {
      "cell_type": "code",
      "source": [
        "# Step 12: Full Execution Pipeline\n",
        "def main_pipeline(image_path):\n",
        "    print(\"Extracting label text...\")\n",
        "    label_text = extract_label_text(image_path)\n",
        "    print(\"Extracted Text:\", label_text)\n",
        "\n",
        "    print(\"Scanning barcode...\")\n",
        "    barcode = scan_barcode(image_path)\n",
        "    print(\"Barcode Data:\", barcode)\n",
        "\n",
        "    print(\"Preprocessing text...\")\n",
        "    ingredients = preprocess_text(label_text)\n",
        "    print(\"Processed Ingredients:\", ingredients)\n",
        "\n",
        "    print(\"Matching ingredients against database...\")\n",
        "    flagged = match_ingredients(ingredients)\n",
        "    print(\"Flagged Ingredients:\", flagged)\n",
        "\n",
        "    print(\"Generating alerts...\")\n",
        "    generate_alert(flagged)\n",
        "\n",
        "    print(\"Visualizing risks...\")\n",
        "    visualize_risks(flagged)\n",
        "\n",
        "    print(\"Training ML model...\")\n",
        "    model = train_ml_model()\n",
        "\n",
        "# Run the Pipeline with an Image\n",
        "test_image = \"path/to/your/image.jpg\"  # Change to the Github Image Files\n",
        "main_pipeline(test_image)"
      ],
      "metadata": {
        "id": "Nl0BmjLin1ya"
      },
      "execution_count": null,
      "outputs": []
    }
  ]
}