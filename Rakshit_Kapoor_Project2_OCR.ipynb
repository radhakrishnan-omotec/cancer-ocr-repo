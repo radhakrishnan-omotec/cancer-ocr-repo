{
  "nbformat": 4,
  "nbformat_minor": 0,
  "metadata": {
    "colab": {
      "provenance": [],
      "authorship_tag": "ABX9TyMnRYBLnUOssmfH3+KDxn/D",
      "include_colab_link": true
    },
    "kernelspec": {
      "name": "python3",
      "display_name": "Python 3"
    },
    "language_info": {
      "name": "python"
    }
  },
  "cells": [
    {
      "cell_type": "markdown",
      "metadata": {
        "id": "view-in-github",
        "colab_type": "text"
      },
      "source": [
        "<a href=\"https://colab.research.google.com/github/radhakrishnan-omotec/cancer-ocr-repo/blob/main/Rakshit_Kapoor_Project2_OCR.ipynb\" target=\"_parent\"><img src=\"https://colab.research.google.com/assets/colab-badge.svg\" alt=\"Open In Colab\"/></a>"
      ]
    },
    {
      "cell_type": "markdown",
      "source": [
        "#Analysis of Cancer-Causing Ingredients in Food Products Through Barcode Scanning\n",
        "\n",
        "###Author : Rakshit Kapoor"
      ],
      "metadata": {
        "id": "lAHZAbBBmocG"
      }
    },
    {
      "cell_type": "code",
      "execution_count": null,
      "metadata": {
        "id": "h9ZWaBb8ml_I"
      },
      "outputs": [],
      "source": []
    }
  ]
}